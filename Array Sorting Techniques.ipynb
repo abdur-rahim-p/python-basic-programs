{
  "nbformat": 4,
  "nbformat_minor": 0,
  "metadata": {
    "colab": {
      "provenance": []
    },
    "kernelspec": {
      "name": "python3",
      "display_name": "Python 3"
    },
    "language_info": {
      "name": "python"
    }
  },
  "cells": [
    {
      "cell_type": "code",
      "source": [
        "def insertionSort(array):\n",
        "  for i in range(0,len(array)):  \n",
        "    while array[i-1] > array[i] and i > 0:\n",
        "      array[i-1] , array[i] = array[i] , array[i-1]\n",
        "      i-=1\n",
        "  return array    "
      ],
      "metadata": {
        "id": "eaFjEyeXnqiz"
      },
      "execution_count": 38,
      "outputs": []
    },
    {
      "cell_type": "code",
      "source": [
        "def bubbleSort(array):\n",
        "  sorted = False #This variable is used to make a breakout of while loop\n",
        "\n",
        "  while not sorted:\n",
        "    sorted = True\n",
        "    for i in range(0,len(array)-1):\n",
        "      if array[i] > array[i+1]:\n",
        "        sorted = False\n",
        "        array[i],array[i+1] = array[i+1],array[i]\n",
        "  return  array"
      ],
      "metadata": {
        "colab": {
          "base_uri": "https://localhost:8080/"
        },
        "id": "BdnYwQ5tur8G",
        "outputId": "fb7adcae-0f7e-4161-d656-19f16c7b4fd5"
      },
      "execution_count": 39,
      "outputs": [
        {
          "output_type": "stream",
          "name": "stdout",
          "text": [
            "[1, 2, 3, 4, 5, 6]\n"
          ]
        }
      ]
    },
    {
      "cell_type": "code",
      "source": [
        "array = [2,6,5,1,3,4]\n",
        "print(\"Insertion sort - \",insertionSort(array))\n",
        "print(\"Bubble sort - \",bubbleSort(array))"
      ],
      "metadata": {
        "colab": {
          "base_uri": "https://localhost:8080/"
        },
        "id": "Fi8sKDB0ypTs",
        "outputId": "f46efcd9-2702-41c2-ed67-e4b6b599bcb9"
      },
      "execution_count": 40,
      "outputs": [
        {
          "output_type": "stream",
          "name": "stdout",
          "text": [
            "Insertion sort -  [1, 2, 3, 4, 5, 6]\n",
            "Bubble sort -  [1, 2, 3, 4, 5, 6]\n"
          ]
        }
      ]
    }
  ]
}